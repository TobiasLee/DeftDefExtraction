{
 "cells": [
  {
   "cell_type": "code",
   "execution_count": null,
   "metadata": {
    "collapsed": true
   },
   "outputs": [],
   "source": [
    "from transformers import RobertaForSequenceClassification, RobertaTokenizer\n",
    "from bertviz import head_view"
   ]
  },
  {
   "cell_type": "code",
   "execution_count": null,
   "outputs": [],
   "source": [
    "model_version = 'results/qa-suffix-roberta-base-2e-5-32/'\n",
    "model = RobertaForSequenceClassification.from_pretrained(model_version, output_attentions=True)\n",
    "tokenizer = RobertaTokenizer.from_pretrained(model_version)\n",
    "\n",
    "# sentence_a = \"Organisms are individual living entities .\"\n",
    "sentence_a = \"Organelles are small structures that exist within cells.\"\n",
    "sentence_b = \"Does this sentence contain a definition?\"\n",
    "inputs = tokenizer.encode_plus(sentence_a, sentence_b, return_tensors='pt', add_special_tokens=True)\n",
    "# inputs = tokenizer.encode_plus(sentence_b, sentence_a, return_tensors='pt', add_special_tokens=True)\n",
    "input_ids = inputs['input_ids']\n",
    "attention = model(input_ids)[-1]\n",
    "input_id_list = input_ids[0].tolist() # Batch index 0\n",
    "tokens = tokenizer.convert_ids_to_tokens(input_id_list)\n",
    "head_view(attention, tokens)"
   ],
   "metadata": {
    "collapsed": false,
    "pycharm": {
     "name": "#%%\n"
    }
   }
  },
  {
   "cell_type": "code",
   "execution_count": null,
   "outputs": [],
   "source": [
    "model_version = 'results/roberta-large-2e-5-32/'\n",
    "model = RobertaForSequenceClassification.from_pretrained(model_version, output_attentions=True)\n",
    "tokenizer = RobertaTokenizer.from_pretrained(model_version)\n",
    "\n",
    "sentence_a = \"Organelles are small structures that exist within cells.\"\n",
    "sentence_b = \"Does this sentence contain a definition?\"\n",
    "inputs = tokenizer.encode_plus(sentence_a, sentence_b, return_tensors='pt', add_special_tokens=True)\n",
    "input_ids = inputs['input_ids']\n",
    "attention = model(input_ids)[-1]\n",
    "input_id_list = input_ids[0].tolist() # Batch index 0\n",
    "tokens = tokenizer.convert_ids_to_tokens(input_id_list)\n",
    "head_view(attention, tokens)\n"
   ],
   "metadata": {
    "collapsed": false,
    "pycharm": {
     "name": "#%%\n"
    }
   }
  }
 ],
 "metadata": {
  "kernelspec": {
   "display_name": "${KERNEL_SPEC_DISPLAY_NAME}",
   "language": "${KERNEL_SPEC_LANGUAGE}",
   "name": "${KERNEL_SPEC_NAME}"
  },
  "language_info": {
   "codemirror_mode": {
    "name": "ipython",
    "version": 2
   },
   "file_extension": ".py",
   "mimetype": "text/x-python",
   "name": "python",
   "nbconvert_exporter": "python",
   "pygments_lexer": "ipython2",
   "version": "2.7.6"
  }
 },
 "nbformat": 4,
 "nbformat_minor": 0
}